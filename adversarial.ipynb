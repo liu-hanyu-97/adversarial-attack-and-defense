{
  "nbformat": 4,
  "nbformat_minor": 0,
  "metadata": {
    "colab": {
      "name": "adversarial.ipynb",
      "provenance": [],
      "collapsed_sections": []
    },
    "kernelspec": {
      "name": "python3",
      "display_name": "Python 3"
    },
    "accelerator": "GPU",
    "widgets": {
      "application/vnd.jupyter.widget-state+json": {
        "b0a5a66c268b4cb6b661c61034433d41": {
          "model_module": "@jupyter-widgets/controls",
          "model_name": "HBoxModel",
          "state": {
            "_view_name": "HBoxView",
            "_dom_classes": [],
            "_model_name": "HBoxModel",
            "_view_module": "@jupyter-widgets/controls",
            "_model_module_version": "1.5.0",
            "_view_count": null,
            "_view_module_version": "1.5.0",
            "box_style": "",
            "layout": "IPY_MODEL_d6c8bb813e3e44618b8d2800a4944024",
            "_model_module": "@jupyter-widgets/controls",
            "children": [
              "IPY_MODEL_b75c5d2e93174f69a1d40c7c68e5854b",
              "IPY_MODEL_6ce51f1158ea4edc84d05581787f29d2"
            ]
          }
        },
        "d6c8bb813e3e44618b8d2800a4944024": {
          "model_module": "@jupyter-widgets/base",
          "model_name": "LayoutModel",
          "state": {
            "_view_name": "LayoutView",
            "grid_template_rows": null,
            "right": null,
            "justify_content": null,
            "_view_module": "@jupyter-widgets/base",
            "overflow": null,
            "_model_module_version": "1.2.0",
            "_view_count": null,
            "flex_flow": null,
            "width": null,
            "min_width": null,
            "border": null,
            "align_items": null,
            "bottom": null,
            "_model_module": "@jupyter-widgets/base",
            "top": null,
            "grid_column": null,
            "overflow_y": null,
            "overflow_x": null,
            "grid_auto_flow": null,
            "grid_area": null,
            "grid_template_columns": null,
            "flex": null,
            "_model_name": "LayoutModel",
            "justify_items": null,
            "grid_row": null,
            "max_height": null,
            "align_content": null,
            "visibility": null,
            "align_self": null,
            "height": null,
            "min_height": null,
            "padding": null,
            "grid_auto_rows": null,
            "grid_gap": null,
            "max_width": null,
            "order": null,
            "_view_module_version": "1.2.0",
            "grid_template_areas": null,
            "object_position": null,
            "object_fit": null,
            "grid_auto_columns": null,
            "margin": null,
            "display": null,
            "left": null
          }
        },
        "b75c5d2e93174f69a1d40c7c68e5854b": {
          "model_module": "@jupyter-widgets/controls",
          "model_name": "FloatProgressModel",
          "state": {
            "_view_name": "ProgressView",
            "style": "IPY_MODEL_d0d58403f4d045a5b33312f911ee7e13",
            "_dom_classes": [],
            "description": "",
            "_model_name": "FloatProgressModel",
            "bar_style": "info",
            "max": 1,
            "_view_module": "@jupyter-widgets/controls",
            "_model_module_version": "1.5.0",
            "value": 1,
            "_view_count": null,
            "_view_module_version": "1.5.0",
            "orientation": "horizontal",
            "min": 0,
            "description_tooltip": null,
            "_model_module": "@jupyter-widgets/controls",
            "layout": "IPY_MODEL_0ec3df26800c4885895a8cdb16e478e1"
          }
        },
        "6ce51f1158ea4edc84d05581787f29d2": {
          "model_module": "@jupyter-widgets/controls",
          "model_name": "HTMLModel",
          "state": {
            "_view_name": "HTMLView",
            "style": "IPY_MODEL_c1e84311f9b84438943e8728fc4c8205",
            "_dom_classes": [],
            "description": "",
            "_model_name": "HTMLModel",
            "placeholder": "​",
            "_view_module": "@jupyter-widgets/controls",
            "_model_module_version": "1.5.0",
            "value": " 170500096/? [00:30&lt;00:00, 15759105.02it/s]",
            "_view_count": null,
            "_view_module_version": "1.5.0",
            "description_tooltip": null,
            "_model_module": "@jupyter-widgets/controls",
            "layout": "IPY_MODEL_237bea6cb2194866a3cd1672fcfefa0d"
          }
        },
        "d0d58403f4d045a5b33312f911ee7e13": {
          "model_module": "@jupyter-widgets/controls",
          "model_name": "ProgressStyleModel",
          "state": {
            "_view_name": "StyleView",
            "_model_name": "ProgressStyleModel",
            "description_width": "initial",
            "_view_module": "@jupyter-widgets/base",
            "_model_module_version": "1.5.0",
            "_view_count": null,
            "_view_module_version": "1.2.0",
            "bar_color": null,
            "_model_module": "@jupyter-widgets/controls"
          }
        },
        "0ec3df26800c4885895a8cdb16e478e1": {
          "model_module": "@jupyter-widgets/base",
          "model_name": "LayoutModel",
          "state": {
            "_view_name": "LayoutView",
            "grid_template_rows": null,
            "right": null,
            "justify_content": null,
            "_view_module": "@jupyter-widgets/base",
            "overflow": null,
            "_model_module_version": "1.2.0",
            "_view_count": null,
            "flex_flow": null,
            "width": null,
            "min_width": null,
            "border": null,
            "align_items": null,
            "bottom": null,
            "_model_module": "@jupyter-widgets/base",
            "top": null,
            "grid_column": null,
            "overflow_y": null,
            "overflow_x": null,
            "grid_auto_flow": null,
            "grid_area": null,
            "grid_template_columns": null,
            "flex": null,
            "_model_name": "LayoutModel",
            "justify_items": null,
            "grid_row": null,
            "max_height": null,
            "align_content": null,
            "visibility": null,
            "align_self": null,
            "height": null,
            "min_height": null,
            "padding": null,
            "grid_auto_rows": null,
            "grid_gap": null,
            "max_width": null,
            "order": null,
            "_view_module_version": "1.2.0",
            "grid_template_areas": null,
            "object_position": null,
            "object_fit": null,
            "grid_auto_columns": null,
            "margin": null,
            "display": null,
            "left": null
          }
        },
        "c1e84311f9b84438943e8728fc4c8205": {
          "model_module": "@jupyter-widgets/controls",
          "model_name": "DescriptionStyleModel",
          "state": {
            "_view_name": "StyleView",
            "_model_name": "DescriptionStyleModel",
            "description_width": "",
            "_view_module": "@jupyter-widgets/base",
            "_model_module_version": "1.5.0",
            "_view_count": null,
            "_view_module_version": "1.2.0",
            "_model_module": "@jupyter-widgets/controls"
          }
        },
        "237bea6cb2194866a3cd1672fcfefa0d": {
          "model_module": "@jupyter-widgets/base",
          "model_name": "LayoutModel",
          "state": {
            "_view_name": "LayoutView",
            "grid_template_rows": null,
            "right": null,
            "justify_content": null,
            "_view_module": "@jupyter-widgets/base",
            "overflow": null,
            "_model_module_version": "1.2.0",
            "_view_count": null,
            "flex_flow": null,
            "width": null,
            "min_width": null,
            "border": null,
            "align_items": null,
            "bottom": null,
            "_model_module": "@jupyter-widgets/base",
            "top": null,
            "grid_column": null,
            "overflow_y": null,
            "overflow_x": null,
            "grid_auto_flow": null,
            "grid_area": null,
            "grid_template_columns": null,
            "flex": null,
            "_model_name": "LayoutModel",
            "justify_items": null,
            "grid_row": null,
            "max_height": null,
            "align_content": null,
            "visibility": null,
            "align_self": null,
            "height": null,
            "min_height": null,
            "padding": null,
            "grid_auto_rows": null,
            "grid_gap": null,
            "max_width": null,
            "order": null,
            "_view_module_version": "1.2.0",
            "grid_template_areas": null,
            "object_position": null,
            "object_fit": null,
            "grid_auto_columns": null,
            "margin": null,
            "display": null,
            "left": null
          }
        }
      }
    }
  },
  "cells": [
    {
      "cell_type": "code",
      "metadata": {
        "id": "FX9GXOxnKXVg",
        "outputId": "b766298d-99b5-4527-9e23-1069be1ba73b",
        "colab": {
          "base_uri": "https://localhost:8080/"
        }
      },
      "source": [
        "import torch\n",
        "import torch.nn.functional as F\n",
        "from torch import autograd, nn\n",
        "from torch.autograd import Variable\n",
        "import numpy as np\n",
        "import matplotlib.pyplot as plt\n",
        "from torchvision import transforms, datasets\n",
        "import pandas as pd\n",
        "from skimage import io\n",
        "import time\n",
        "from PIL import Image\n",
        "import math\n",
        "from torch.utils.data import Dataset, DataLoader\n",
        "import copy\n",
        "# input 3*64*64\n",
        "NUMCLASSES = 10\n",
        "BATCHSIZE = 64\n",
        "\n",
        "device = torch.device(\"cuda\" if torch.cuda.is_available() else \"cpu\")\n",
        "print(torch.cuda.get_device_name(0))"
      ],
      "execution_count": null,
      "outputs": [
        {
          "output_type": "stream",
          "text": [
            "Tesla V100-SXM2-16GB\n"
          ],
          "name": "stdout"
        }
      ]
    },
    {
      "cell_type": "code",
      "metadata": {
        "id": "8OSg8Ac8MmJX"
      },
      "source": [
        "# Use torch ImageFolder\n",
        "train_transform = transforms.Compose([\n",
        "        # transforms.RandomResizedCrop(100),\n",
        "        transforms.RandomHorizontalFlip(),\n",
        "        transforms.RandomRotation(0, 360),\n",
        "        transforms.ToTensor(),\n",
        "        transforms.Normalize((0.5, 0.5, 0.5), (0.5, 0.5, 0.5))\n",
        "    ])\n",
        "\n",
        "data_transform = transforms.Compose([\n",
        "        # transforms.RandomResizedCrop(100),\n",
        "        # transforms.RandomHorizontalFlip(),\n",
        "        transforms.ToTensor(),\n",
        "        transforms.Normalize((0.5, 0.5, 0.5), (0.5, 0.5, 0.5))\n",
        "        \n",
        "    ])"
      ],
      "execution_count": null,
      "outputs": []
    },
    {
      "cell_type": "code",
      "metadata": {
        "id": "3vS5OQ9iM5n_",
        "outputId": "d18f2550-56fe-4f90-e5f3-c41cb4e96f49",
        "colab": {
          "base_uri": "https://localhost:8080/",
          "height": 102,
          "referenced_widgets": [
            "b0a5a66c268b4cb6b661c61034433d41",
            "d6c8bb813e3e44618b8d2800a4944024",
            "b75c5d2e93174f69a1d40c7c68e5854b",
            "6ce51f1158ea4edc84d05581787f29d2",
            "d0d58403f4d045a5b33312f911ee7e13",
            "0ec3df26800c4885895a8cdb16e478e1",
            "c1e84311f9b84438943e8728fc4c8205",
            "237bea6cb2194866a3cd1672fcfefa0d"
          ]
        }
      },
      "source": [
        "train_dataset = datasets.CIFAR10(\n",
        "    root='./data', train=True, download=True, transform=train_transform)\n",
        "train_loader = torch.utils.data.DataLoader(\n",
        "    train_dataset, batch_size=BATCHSIZE, shuffle=True, num_workers=2)\n",
        "\n",
        "test_dataset = datasets.CIFAR10(\n",
        "    root='./data', train=False, download=True, transform=data_transform)\n",
        "test_loader = torch.utils.data.DataLoader(\n",
        "    test_dataset, batch_size=BATCHSIZE, shuffle=False, num_workers=2)\n",
        "\n",
        "classes = ('plane', 'car', 'bird', 'cat', 'deer',\n",
        "           'dog', 'frog', 'horse', 'ship', 'truck')"
      ],
      "execution_count": null,
      "outputs": [
        {
          "output_type": "stream",
          "text": [
            "Downloading https://www.cs.toronto.edu/~kriz/cifar-10-python.tar.gz to ./data/cifar-10-python.tar.gz\n"
          ],
          "name": "stdout"
        },
        {
          "output_type": "display_data",
          "data": {
            "application/vnd.jupyter.widget-view+json": {
              "model_id": "b0a5a66c268b4cb6b661c61034433d41",
              "version_minor": 0,
              "version_major": 2
            },
            "text/plain": [
              "HBox(children=(FloatProgress(value=1.0, bar_style='info', max=1.0), HTML(value='')))"
            ]
          },
          "metadata": {
            "tags": []
          }
        },
        {
          "output_type": "stream",
          "text": [
            "Extracting ./data/cifar-10-python.tar.gz to ./data\n",
            "Files already downloaded and verified\n"
          ],
          "name": "stdout"
        }
      ]
    },
    {
      "cell_type": "code",
      "metadata": {
        "id": "3VUnTdMvNdFV"
      },
      "source": [
        "def show_cifar10(num):\n",
        "  for i in range(num):\n",
        "    for j in range(num):\n",
        "      plt.subplot(num, num, i*num+j+1)\n",
        "      plt.axis('off')\n",
        "      plt.set_cmap('hot')\n",
        "      plt.subplots_adjust(hspace = .005, wspace=.005)\n",
        "      plt.imshow(train_dataset[i*num+j][0].permute(1,2,0), interpolation='nearest')"
      ],
      "execution_count": null,
      "outputs": []
    },
    {
      "cell_type": "code",
      "metadata": {
        "id": "nq5tG_RMMrOH"
      },
      "source": [
        "class ResidualBlock(nn.Module):\n",
        "  def __init__(self, in_channel, out_channel, stride=1):\n",
        "      super().__init__()\n",
        "      self.left = nn.Sequential(\n",
        "          nn.Conv2d(in_channel, out_channel, kernel_size=3, stride=stride, padding=1, bias=False),\n",
        "          nn.BatchNorm2d(out_channel),\n",
        "          nn.ReLU(inplace=True),\n",
        "          nn.Conv2d(out_channel, out_channel, kernel_size=3, stride=1, padding=1, bias=False),\n",
        "          nn.BatchNorm2d(out_channel)\n",
        "      )\n",
        "      self.shortcut = nn.Sequential()\n",
        "      if stride != 1 or in_channel != out_channel:\n",
        "          self.shortcut = nn.Sequential(\n",
        "              nn.Conv2d(in_channel, out_channel, kernel_size=1, stride=stride, bias=False),\n",
        "              nn.BatchNorm2d(out_channel)\n",
        "          )\n",
        "\n",
        "  def forward(self, x):\n",
        "      out = self.left(x)\n",
        "      out += self.shortcut(x)\n",
        "      out = F.relu(out)\n",
        "      return out\n",
        "\n",
        "class ConvBlock(nn.Module):\n",
        "  def __init__(self, in_channel, kernel_size, filters, stride):\n",
        "    super().__init__()\n",
        "    f1, f2, f3 = filters\n",
        "    self.layer = nn.Sequential(\n",
        "        nn.Conv2d(in_channel, f1, kernel_size=1, stride=stride, padding=0, bias=False),\n",
        "        nn.BatchNorm2d(f1),\n",
        "        nn.ReLU(),\n",
        "        nn.Conv2d(f1, f2, kernel_size=kernel_size, stride=1, padding=True, bias=False),\n",
        "        nn.BatchNorm2d(f2),\n",
        "        nn.ReLU(),\n",
        "        nn.Conv2d(f2, f3, kernel_size=1, stride=1, padding=0, bias=False),\n",
        "        nn.BatchNorm2d(f3),\n",
        "        nn.ReLU()\n",
        "    )\n",
        "    self.shortcut = nn.Conv2d(in_channel, f3, kernel_size=1, stride=stride, padding=0, bias=False)\n",
        "    self.batchnorm2d = nn.BatchNorm2d(f3)\n",
        "    self.relu = nn.ReLU()\n",
        "  def forward(self, x):\n",
        "    out = self.layer(x)\n",
        "    out += self.batchnorm2d(self.shortcut(x))\n",
        "    out = self.relu(out)\n",
        "    return out\n",
        "\n",
        "\n",
        "class IndentityBlock(nn.Module):\n",
        "  def __init__(self, in_channel, kernel_size, filters):\n",
        "    super(IndentityBlock,self).__init__()\n",
        "    f1, f2, f3 = filters\n",
        "    self.layer = nn.Sequential(\n",
        "        nn.Conv2d(in_channel, f1 , kernel_size=1,stride=1, padding=0, bias=False),\n",
        "        nn.BatchNorm2d(f1),\n",
        "        nn.ReLU(),\n",
        "        nn.Conv2d(f1, f2, kernel_size=kernel_size, stride=1, padding=True, bias=False),\n",
        "        nn.BatchNorm2d(f2),\n",
        "        nn.ReLU(),\n",
        "        nn.Conv2d(f2, f3 ,kernel_size=1, stride=1, padding=0, bias=False),\n",
        "        nn.BatchNorm2d(f3),\n",
        "    )\n",
        "    self.relu = nn.ReLU(True)\n",
        "    self.shorcut = nn.Sequential()\n",
        "  def forward(self, x):\n",
        "    out = self.layer(x)\n",
        "    out += self.shorcut(x)\n",
        "    out = self.relu(out)\n",
        "    del x\n",
        "    return out"
      ],
      "execution_count": null,
      "outputs": []
    },
    {
      "cell_type": "code",
      "metadata": {
        "id": "hDPO9JONMtUu"
      },
      "source": [
        "class ResNet18(nn.Module):\n",
        "    def __init__(self, ResidualBlock, num_classes=10):\n",
        "        super().__init__()\n",
        "        self.in_channel = 64\n",
        "        self.conv1 = nn.Sequential(\n",
        "            nn.Conv2d(3, 64, kernel_size=3, stride=1, padding=1, bias=False),\n",
        "            nn.BatchNorm2d(64),\n",
        "            nn.ReLU(),\n",
        "        ) # 3*32*32->64*32*32\n",
        "        self.layer1 = self.make_layer(ResidualBlock, 64,  2, stride=1) # 64**32*32->64*32*32\n",
        "        self.layer2 = self.make_layer(ResidualBlock, 128, 2, stride=2) # 128*16*16-->128*16*16-\n",
        "        self.layer3 = self.make_layer(ResidualBlock, 256, 2, stride=2) # 256*8*8->256*8*8\n",
        "        self.layer4 = self.make_layer(ResidualBlock, 512, 2, stride=2) # 512*4*4->512*4*4\n",
        "        self.fc = nn.Linear(512, num_classes)\n",
        "        \n",
        "    def make_layer(self, block, out_channels, num_blocks, stride):\n",
        "        strides = [stride] + [1] * (num_blocks - 1)   #strides=[1,1]\n",
        "        layers = []\n",
        "        for stride in strides:\n",
        "            layers.append(block(self.in_channel, out_channels, stride))\n",
        "            self.in_channel = out_channels\n",
        "        return nn.Sequential(*layers)\n",
        " \n",
        "    def forward(self, x):\n",
        "        out = self.conv1(x)\n",
        "        out = self.layer1(out)\n",
        "        out = self.layer2(out)\n",
        "        out = self.layer3(out)\n",
        "        out = self.layer4(out)\n",
        "        out = F.avg_pool2d(out, 4)\n",
        "        out = out.view(out.size(0), -1)\n",
        "        out = self.fc(out)\n",
        "        return out\n"
      ],
      "execution_count": null,
      "outputs": []
    },
    {
      "cell_type": "code",
      "metadata": {
        "id": "hezZ9cK2zYmQ"
      },
      "source": [
        "\n",
        "# planes == channels\n",
        "\n",
        "class Bottleneck(nn.Module):\n",
        "    def __init__(self, in_planes, growth_rate):\n",
        "        super(Bottleneck, self).__init__()\n",
        "        self.bn1 = nn.BatchNorm2d(in_planes)\n",
        "        self.conv1 = nn.Conv2d(in_planes, 4*growth_rate, kernel_size=1, bias=False)\n",
        "        self.bn2 = nn.BatchNorm2d(4*growth_rate)\n",
        "        self.conv2 = nn.Conv2d(4*growth_rate, growth_rate, kernel_size=3, padding=1, bias=False)\n",
        "\n",
        "    def forward(self, x):\n",
        "        out = self.conv1(F.relu(self.bn1(x)))\n",
        "        out = self.conv2(F.relu(self.bn2(out)))\n",
        "        out = torch.cat([out,x], 1)\n",
        "        return out\n",
        "\n",
        "\n",
        "class Transition(nn.Module):\n",
        "    def __init__(self, in_planes, out_planes):\n",
        "        super(Transition, self).__init__()\n",
        "        self.bn = nn.BatchNorm2d(in_planes)\n",
        "        self.conv = nn.Conv2d(in_planes, out_planes, kernel_size=1, bias=False)\n",
        "\n",
        "    def forward(self, x):\n",
        "        out = self.conv(F.relu(self.bn(x)))\n",
        "        out = F.avg_pool2d(out, 2)\n",
        "        return out\n",
        "\n",
        "\n",
        "# block -> Bottleneck\n",
        "class DenseNet(nn.Module):\n",
        "    def __init__(self, block, nblocks, growth_rate=12, reduction=0.5, num_classes=10):\n",
        "        super(DenseNet, self).__init__()\n",
        "        self.growth_rate = growth_rate\n",
        "\n",
        "        num_planes = 2*growth_rate\n",
        "        self.conv1 = nn.Conv2d(3, num_planes, kernel_size=3, padding=1, bias=False)\n",
        "\n",
        "        self.dense1 = self._make_dense_layers(block, num_planes, nblocks[0])\n",
        "        num_planes += nblocks[0]*growth_rate\n",
        "        out_planes = int(math.floor(num_planes*reduction))\n",
        "        self.trans1 = Transition(num_planes, out_planes)\n",
        "        num_planes = out_planes\n",
        "\n",
        "        self.dense2 = self._make_dense_layers(block, num_planes, nblocks[1])\n",
        "        num_planes += nblocks[1]*growth_rate\n",
        "        out_planes = int(math.floor(num_planes*reduction))\n",
        "        self.trans2 = Transition(num_planes, out_planes)\n",
        "        num_planes = out_planes\n",
        "\n",
        "        self.dense3 = self._make_dense_layers(block, num_planes, nblocks[2])\n",
        "        num_planes += nblocks[2]*growth_rate\n",
        "        out_planes = int(math.floor(num_planes*reduction))\n",
        "        self.trans3 = Transition(num_planes, out_planes)\n",
        "        num_planes = out_planes\n",
        "\n",
        "        self.dense4 = self._make_dense_layers(block, num_planes, nblocks[3])\n",
        "        num_planes += nblocks[3]*growth_rate\n",
        "\n",
        "        self.bn = nn.BatchNorm2d(num_planes)\n",
        "        self.linear = nn.Linear(num_planes, num_classes)\n",
        "\n",
        "    def _make_dense_layers(self, block, in_planes, nblock):\n",
        "        layers = []\n",
        "        for i in range(nblock):\n",
        "            layers.append(block(in_planes, self.growth_rate))\n",
        "            in_planes += self.growth_rate\n",
        "        return nn.Sequential(*layers)\n",
        "\n",
        "    def forward(self, x):\n",
        "        out = self.conv1(x)\n",
        "        out = self.trans1(self.dense1(out))\n",
        "        out = self.trans2(self.dense2(out))\n",
        "        out = self.trans3(self.dense3(out))\n",
        "        out = self.dense4(out)\n",
        "        out = F.avg_pool2d(F.relu(self.bn(out)), 4)\n",
        "        out = out.view(out.size(0), -1)\n",
        "        out = self.linear(out)\n",
        "        return out\n",
        "\n",
        "def DenseNet121():\n",
        "    return DenseNet(Bottleneck, [6,12,24,16], growth_rate=32)\n",
        "\n",
        "def DenseNet169():\n",
        "    return DenseNet(Bottleneck, [6,12,32,32], growth_rate=32)\n",
        "\n",
        "def DenseNet201():\n",
        "    return DenseNet(Bottleneck, [6,12,48,32], growth_rate=32)\n",
        "\n",
        "def DenseNet161():\n",
        "    return DenseNet(Bottleneck, [6,12,36,24], growth_rate=48)"
      ],
      "execution_count": null,
      "outputs": []
    },
    {
      "cell_type": "code",
      "metadata": {
        "id": "lp7sp3jqSITz"
      },
      "source": [
        "def evaluate(model, data_loader, criterion):\n",
        "  avg_loss = 0.0\n",
        "  total = 0.\n",
        "  accuracy = 0.\n",
        "  test_loss = []\n",
        "  model.eval()\n",
        "  for batch_num, (feats, labels) in enumerate(data_loader):\n",
        "      feats, labels = feats.to(device), labels.to(device)\n",
        "      outputs = model(feats)\n",
        "      \n",
        "      prob = F.softmax(outputs.detach(), dim=1)\n",
        "      \n",
        "      _, pred_labels = torch.max(prob, 1)\n",
        "      pred_labels = pred_labels.view(-1)\n",
        "\n",
        "      loss = criterion(outputs, labels.long())\n",
        "      \n",
        "      accuracy += torch.sum(torch.eq(pred_labels, labels)).item()\n",
        "      total += len(labels)\n",
        "      test_loss.extend([loss.item()]*feats.size()[0])\n",
        "\n",
        "      torch.cuda.empty_cache()\n",
        "      del outputs\n",
        "      del feats\n",
        "      del labels\n",
        "      del pred_labels\n",
        "      del prob\n",
        "\n",
        "  return np.mean(test_loss), accuracy/total"
      ],
      "execution_count": null,
      "outputs": []
    },
    {
      "cell_type": "code",
      "metadata": {
        "id": "8MzJPx3ITH5R"
      },
      "source": [
        "criterion = nn.CrossEntropyLoss()\n",
        "\n",
        "model = ResNet18(ResidualBlock).to(device)\n",
        "\n",
        "# model = DenseNet121().to(device)\n",
        "optimizer = torch.optim.SGD(model.parameters(), momentum=0.9, lr=0.01, weight_decay=1e-4)\n",
        "scheduler = torch.optim.lr_scheduler.StepLR(optimizer, step_size=10, gamma=0.1)\n",
        "\n",
        "\n",
        "\n",
        "def load_DenseNet121():\n",
        "  !cp '/content/drive/My Drive/Colab Notebooks/adversarial/Model_19' '/content/'\n",
        "  checkpoint = torch.load('Model_19')\n",
        "  model.load_state_dict(checkpoint['model_state_dict'])\n",
        "  optimizer.load_state_dict(checkpoint['optimizer_state_dict'])\n"
      ],
      "execution_count": null,
      "outputs": []
    },
    {
      "cell_type": "code",
      "metadata": {
        "id": "ScOvbhHBSIV9"
      },
      "source": [
        "def train(model, train_loader, optimizer, criterion,  epochs):\n",
        "  model.train()\n",
        "  start_time = time.time()\n",
        "\n",
        "  for epoch in range(epochs):\n",
        "    total = 0.0\n",
        "    train_acc = 0.0\n",
        "    train_loss = []\n",
        "    total_labels = []\n",
        "\n",
        "    model.train()\n",
        "    for batch_num, (feats, labels) in enumerate(train_loader):\n",
        "      feats, labels = feats.to(device), labels.to(device)\n",
        "      optimizer.zero_grad()\n",
        "      with torch.cuda.amp.autocast():\n",
        "        outputs = model(feats)\n",
        "        loss = criterion(outputs, labels.long())\n",
        "      loss.backward()\n",
        "      optimizer.step()\n",
        "\n",
        "      prob = F.softmax(outputs.detach(), dim=1)\n",
        "\n",
        "      _, pred_labels = torch.max(prob, 1)\n",
        "      pred_labels = pred_labels.view(-1)\n",
        "      train_acc += torch.sum(torch.eq(pred_labels, labels)).item()    \n",
        "      \n",
        "      total += len(labels)\n",
        "      train_loss.extend([loss.item()]*feats.size()[0])\n",
        "      torch.cuda.empty_cache()\n",
        "\n",
        "      del loss\n",
        "      del feats\n",
        "      del labels\n",
        "      del pred_labels\n",
        "      del outputs\n",
        "      del prob\n",
        "\n",
        "    scheduler.step()\n",
        "\n",
        "    torch.save({\n",
        "                'model_state_dict': model.state_dict(),\n",
        "                'optimizer_state_dict': optimizer.state_dict(),\n",
        "                #'scheduler_state_dict' : scheduler.state_dict(),\n",
        "    }, \"Model_\"+str(epoch))\n",
        "    val_loss, val_acc = evaluate(model, test_loader, criterion)\n",
        "    print('epoch: %d\\t'%(epoch+1),  'time: %d m: %d s '% divmod(time.time() - start_time, 60))\n",
        "    start_time = time.time()\n",
        "    print('train_loss: %.5f\\ttrain_acc: %.5f' %(np.mean(train_loss), train_acc/total))\n",
        "    print('val_loss: %.5f\\tval_acc: %.5f'% (val_loss, val_acc))\n",
        "    print('*'*60)"
      ],
      "execution_count": null,
      "outputs": []
    },
    {
      "cell_type": "code",
      "metadata": {
        "id": "qH_-opFxTTGA",
        "outputId": "22ceaf6c-03b7-4ca4-cd2b-fc4346e2d0f1",
        "colab": {
          "base_uri": "https://localhost:8080/"
        }
      },
      "source": [
        "train(model, train_loader, optimizer, criterion,  20)"
      ],
      "execution_count": null,
      "outputs": [
        {
          "output_type": "stream",
          "text": [
            "epoch: 1\t time: 0 m: 34 s \n",
            "train_loss: 1.26788\ttrain_acc: 0.54436\n",
            "val_loss: 1.01322\tval_acc: 0.65420\n",
            "************************************************************\n",
            "epoch: 2\t time: 0 m: 33 s \n",
            "train_loss: 0.73985\ttrain_acc: 0.74196\n",
            "val_loss: 0.70058\tval_acc: 0.75500\n",
            "************************************************************\n",
            "epoch: 3\t time: 0 m: 33 s \n",
            "train_loss: 0.57337\ttrain_acc: 0.80036\n",
            "val_loss: 0.70656\tval_acc: 0.76040\n",
            "************************************************************\n",
            "epoch: 4\t time: 0 m: 33 s \n",
            "train_loss: 0.46623\ttrain_acc: 0.83678\n",
            "val_loss: 0.49386\tval_acc: 0.83230\n",
            "************************************************************\n",
            "epoch: 5\t time: 0 m: 33 s \n",
            "train_loss: 0.38729\ttrain_acc: 0.86576\n",
            "val_loss: 0.59302\tval_acc: 0.80530\n",
            "************************************************************\n",
            "epoch: 6\t time: 0 m: 33 s \n",
            "train_loss: 0.32665\ttrain_acc: 0.88682\n",
            "val_loss: 0.53089\tval_acc: 0.83080\n",
            "************************************************************\n",
            "epoch: 7\t time: 0 m: 34 s \n",
            "train_loss: 0.27550\ttrain_acc: 0.90584\n",
            "val_loss: 0.53032\tval_acc: 0.83410\n",
            "************************************************************\n",
            "epoch: 8\t time: 0 m: 33 s \n",
            "train_loss: 0.23132\ttrain_acc: 0.91976\n",
            "val_loss: 0.47189\tval_acc: 0.84930\n",
            "************************************************************\n",
            "epoch: 9\t time: 0 m: 34 s \n",
            "train_loss: 0.20315\ttrain_acc: 0.92788\n",
            "val_loss: 0.50653\tval_acc: 0.84800\n",
            "************************************************************\n",
            "epoch: 10\t time: 0 m: 34 s \n",
            "train_loss: 0.16214\ttrain_acc: 0.94282\n",
            "val_loss: 0.48385\tval_acc: 0.85180\n",
            "************************************************************\n",
            "epoch: 11\t time: 0 m: 34 s \n",
            "train_loss: 0.08111\ttrain_acc: 0.97402\n",
            "val_loss: 0.38103\tval_acc: 0.88500\n",
            "************************************************************\n",
            "epoch: 12\t time: 0 m: 34 s \n",
            "train_loss: 0.05269\ttrain_acc: 0.98546\n",
            "val_loss: 0.37834\tval_acc: 0.88760\n",
            "************************************************************\n",
            "epoch: 13\t time: 0 m: 34 s \n",
            "train_loss: 0.04082\ttrain_acc: 0.98892\n",
            "val_loss: 0.37878\tval_acc: 0.88790\n",
            "************************************************************\n",
            "epoch: 14\t time: 0 m: 34 s \n",
            "train_loss: 0.03206\ttrain_acc: 0.99198\n",
            "val_loss: 0.39544\tval_acc: 0.88790\n",
            "************************************************************\n",
            "epoch: 15\t time: 0 m: 34 s \n",
            "train_loss: 0.02559\ttrain_acc: 0.99400\n",
            "val_loss: 0.39640\tval_acc: 0.88830\n",
            "************************************************************\n",
            "epoch: 16\t time: 0 m: 34 s \n",
            "train_loss: 0.02082\ttrain_acc: 0.99586\n",
            "val_loss: 0.40293\tval_acc: 0.88850\n",
            "************************************************************\n",
            "epoch: 17\t time: 0 m: 34 s \n",
            "train_loss: 0.01677\ttrain_acc: 0.99700\n",
            "val_loss: 0.40807\tval_acc: 0.88820\n",
            "************************************************************\n",
            "epoch: 18\t time: 0 m: 34 s \n",
            "train_loss: 0.01448\ttrain_acc: 0.99746\n",
            "val_loss: 0.41092\tval_acc: 0.88970\n",
            "************************************************************\n",
            "epoch: 19\t time: 0 m: 34 s \n",
            "train_loss: 0.01298\ttrain_acc: 0.99800\n",
            "val_loss: 0.42062\tval_acc: 0.88980\n",
            "************************************************************\n",
            "epoch: 20\t time: 0 m: 34 s \n",
            "train_loss: 0.01055\ttrain_acc: 0.99844\n",
            "val_loss: 0.42729\tval_acc: 0.88860\n",
            "************************************************************\n"
          ],
          "name": "stdout"
        }
      ]
    },
    {
      "cell_type": "code",
      "metadata": {
        "id": "Xol41mh3jcIX"
      },
      "source": [
        "def fgsm_attack(image, epsilon, data_grad, mask):\n",
        "\n",
        "    # Collect the element-wise sign of the data gradient\n",
        "    sign_data_grad = torch.mul(data_grad.sign(), mask.view(-1, 1, 1, 1))\n",
        "\n",
        "    # Create the perturbed image by adjusting each pixel of the input image\n",
        "    perturbed_image = image + epsilon*sign_data_grad\n",
        "    # Adding clipping to maintain [0,1] range\n",
        "    perturbed_image = torch.clamp(perturbed_image, 0, 1)\n",
        "    # Return the perturbed image\n",
        "    return perturbed_image"
      ],
      "execution_count": null,
      "outputs": []
    },
    {
      "cell_type": "code",
      "metadata": {
        "id": "GlYZlDOMjf05"
      },
      "source": [
        "def test( model, device, test_loader, test_dataset, epsilon ):\n",
        "\n",
        "    # Accuracy counter\n",
        "    correct = 0\n",
        "    adv_examples = []\n",
        "    pred_list = []\n",
        "\n",
        "    # Loop over all examples in test set\n",
        "    for data, target in test_loader:\n",
        "\n",
        "        # Send the data and label to the device\n",
        "        data, target = data.to(device), target.to(device)\n",
        "\n",
        "        # Set requires_grad attribute of tensor. Important for Attack\n",
        "        data.requires_grad = True\n",
        "\n",
        "        # Forward pass the data through the model\n",
        "        output = model(data)\n",
        "        init_pred = output.max(1, keepdim=True)[1] # get the index of the max log-probability\n",
        "\n",
        "        # mask: 1 for correct, only update grad on correct image\n",
        "        mask = torch.eq(init_pred.flatten(), target.flatten()).float()\n",
        "\n",
        "        # Calculate the loss\n",
        "        loss = F.nll_loss(output, target)\n",
        "\n",
        "        # Zero all existing gradients\n",
        "        model.zero_grad()\n",
        "\n",
        "        # Calculate gradients of model in backward pass\n",
        "        loss.backward()\n",
        "\n",
        "        # Collect datagrad\n",
        "        data_grad = data.grad.data\n",
        "\n",
        "        # Call FGSM Attack\n",
        "        perturbed_data = fgsm_attack(data, epsilon, data_grad, mask)\n",
        "\n",
        "        # Re-classify the perturbed image\n",
        "        output = model(perturbed_data)\n",
        "\n",
        "        # Check for success\n",
        "        final_pred = output.max(1, keepdim=True)[1] # get the index of the max log-probability\n",
        "\n",
        "        # calculate correct prediction\n",
        "        correct += torch.sum(torch.eq(final_pred.flatten(), target.flatten())).item()\n",
        "        # Special case for saving 0 epsilon examples\n",
        "        \n",
        "        adv_ex = perturbed_data.squeeze().detach().cpu().numpy()\n",
        "        adv_examples.append( (target.flatten().detach().cpu().numpy(), adv_ex) )\n",
        "        pred_list.append((init_pred.flatten().detach().cpu().numpy(), final_pred.flatten().detach().cpu().numpy()))\n",
        "\n",
        "    # Calculate final accuracy for this epsilon\n",
        "    final_acc = correct/float(len(test_dataset))\n",
        "    print(\"Epsilon: {}\\tTest Accuracy = {} / {} = {}\".format(epsilon, correct, len(test_dataset), final_acc))\n",
        "\n",
        "    # Return the accuracy and an adversarial example\n",
        "    return final_acc, adv_examples, pred_list"
      ],
      "execution_count": null,
      "outputs": []
    },
    {
      "cell_type": "code",
      "metadata": {
        "id": "J_Rys8x3ks6Z"
      },
      "source": [
        "class AdvDataset(Dataset):\n",
        "  def __init__(self, data, label):\n",
        "    self.data = torch.Tensor(data)\n",
        "    self.label = torch.Tensor(label)\n",
        "  def __len__(self):\n",
        "    return len(self.data)\n",
        "  def __getitem__(self, idx):\n",
        "    return self.data[idx], self.label[idx]"
      ],
      "execution_count": null,
      "outputs": []
    },
    {
      "cell_type": "code",
      "metadata": {
        "id": "SG60zT_B0bCr"
      },
      "source": [
        "train_loss_list = []\n",
        "train_acc1_list = []\n",
        "val_acc_list = []\n",
        "val_loss_list = []\n",
        "train_acc2_list = []\n",
        "def adv_train(model, train_loader, test_loader, optimizer, criterion, epsilon, epochs):\n",
        "  model.train()\n",
        "  start_time = time.time()\n",
        "\n",
        "  for epoch in range(epochs):\n",
        "    total = 0.0\n",
        "    train_acc1 = 0.0\n",
        "    train_acc2 = 0.0\n",
        "    train_loss = []\n",
        "    total_labels = []\n",
        "\n",
        "    model.train()\n",
        "    for batch_num, (feats, labels) in enumerate(train_loader):\n",
        "\n",
        "      feats, labels = feats.to(device), labels.to(device)\n",
        "\n",
        "      # Set requires_grad attribute of tensor. Important for Attack\n",
        "      feats.requires_grad = True\n",
        "\n",
        "      optimizer.zero_grad()\n",
        "\n",
        "      # calculate grad on origional image\n",
        "      # with torch.cuda.amp.autocast():\n",
        "      outputs1 = model(feats)\n",
        "      loss1 = criterion(outputs1, labels.long())\n",
        "\n",
        "      # create a copy to backward\n",
        "      temp_feats = copy.deepcopy(feats)\n",
        "      temp_model = copy.deepcopy(model)\n",
        "      temp_outputs = temp_model(temp_feats)\n",
        "      temp_loss = criterion(temp_outputs, labels.long())\n",
        "      temp_model.zero_grad()\n",
        "      temp_loss.backward()\n",
        "      # generate adv image and calculate loss\n",
        "      adv_ex = fgsm_attack(temp_feats, epsilon, temp_feats.grad.data, mask=torch.ones(feats.shape[0]).to(device))\n",
        "\n",
        "      # with torch.cuda.amp.autocast():\n",
        "      outputs2 = model(adv_ex)\n",
        "      loss2 = criterion(outputs2, labels.long())\n",
        "\n",
        "      # new loss,  update gradient loss on new loss\n",
        "      loss = (loss1+loss2)/2\n",
        "      loss.backward()\n",
        "      \n",
        "      optimizer.step()\n",
        "\n",
        "\n",
        "      # calculate accuracy on original image\n",
        "      prob1 = F.softmax(outputs1.detach(), dim=1)\n",
        "\n",
        "      _, pred_labels1 = torch.max(prob1, 1)\n",
        "      pred_labels1 = pred_labels1.view(-1)\n",
        "      train_acc1 += torch.sum(torch.eq(pred_labels1, labels)).item()    \n",
        "\n",
        "      # calculate accuracy on attack image\n",
        "      prob2 = F.softmax(outputs2.detach(), dim=1)\n",
        "\n",
        "      _, pred_labels2 = torch.max(prob2, 1)\n",
        "      pred_labels2 = pred_labels2.view(-1)\n",
        "      train_acc2 += torch.sum(torch.eq(pred_labels2, labels)).item()    \n",
        "      \n",
        "      total += len(labels)\n",
        "      train_loss.extend([loss.item()]*feats.size()[0])\n",
        "      torch.cuda.empty_cache()\n",
        "\n",
        "      del loss\n",
        "      del feats\n",
        "      del labels\n",
        "      del pred_labels1\n",
        "      del pred_labels2\n",
        "      del outputs1\n",
        "      del outputs2\n",
        "      del loss1\n",
        "      del loss2\n",
        "      del prob1\n",
        "      del prob2\n",
        "      del temp_feats\n",
        "      del temp_loss\n",
        "      del temp_outputs\n",
        "      del temp_model\n",
        "      del adv_ex\n",
        "    #scheduler.step()\n",
        "\n",
        "    torch.save({\n",
        "                'model_state_dict': model.state_dict(),\n",
        "                'optimizer_state_dict': optimizer.state_dict(),\n",
        "                #'scheduler_state_dict' : scheduler.state_dict(),\n",
        "    }, \"Model_\"+str(epoch))\n",
        "    val_loss, val_acc = evaluate(model, test_loader, criterion)\n",
        "    print('epoch: %d\\t'%(epoch+1),  'time: %d m: %d s '% divmod(time.time() - start_time, 60))\n",
        "    start_time = time.time()\n",
        "    train_loss_list.append(np.mean(train_loss))\n",
        "    train_acc1_list.append(train_acc1/total)\n",
        "    val_loss_list.append(val_loss)\n",
        "    val_acc_list.append(val_acc)\n",
        "    train_acc2_list.append(train_acc2/total)\n",
        "\n",
        "\n",
        "    print('train_loss: %.5f\\ttrain_acc1: %.5f' %(np.mean(train_loss), train_acc1/total))\n",
        "    print('val_loss: %.5f\\tval_acc: %.5f'% (val_loss, val_acc))\n",
        "    print('attack_acc: %.5f'%(train_acc2/total))\n",
        "    print('*'*70)"
      ],
      "execution_count": null,
      "outputs": []
    },
    {
      "cell_type": "code",
      "metadata": {
        "id": "aDGYj4T5pfmw",
        "outputId": "c20cb165-3647-4321-963e-d6398a2f61cd",
        "colab": {
          "base_uri": "https://localhost:8080/"
        }
      },
      "source": [
        "eps = 0.05\n",
        "acc,ex, pred = test(model, device, test_loader, test_dataset, eps)\n",
        "\n",
        "label = []\n",
        "adv_ex = []\n",
        "\n",
        "label = [j for i in ex for j in i[0]]\n",
        "adv_ex = [j for i in ex for j in i[1]]\n",
        "\n",
        "advdataset = AdvDataset(adv_ex, label)\n",
        "advloader = DataLoader(advdataset, BATCHSIZE, shuffle=True)\n"
      ],
      "execution_count": null,
      "outputs": [
        {
          "output_type": "stream",
          "text": [
            "Epsilon: 0.05\tTest Accuracy = 1326 / 10000 = 0.1326\n"
          ],
          "name": "stdout"
        }
      ]
    },
    {
      "cell_type": "code",
      "metadata": {
        "id": "NnEUJb6KqPHG",
        "outputId": "d1e6e526-5cc1-4a25-8437-c152b46651bb",
        "colab": {
          "base_uri": "https://localhost:8080/"
        }
      },
      "source": [
        "advModel = ResNet18(ResidualBlock, 10).to(device)\n",
        "criterion = nn.CrossEntropyLoss()\n",
        "optimizer = torch.optim.SGD(advModel.parameters(), momentum=0.9, lr=0.01, weight_decay=1e-4)\n",
        "scheduler = torch.optim.lr_scheduler.StepLR(optimizer, step_size=10, gamma=0.1)\n",
        "\n",
        "adv_train(advModel, train_loader, advloader, optimizer,criterion, 0.05, 20)"
      ],
      "execution_count": null,
      "outputs": [
        {
          "output_type": "stream",
          "text": [
            "epoch: 1\t time: 1 m: 19 s \n",
            "train_loss: 1.67694\ttrain_acc1: 0.46758\n",
            "val_loss: 2.41032\tval_acc: 0.25370\n",
            "attack_acc: 0.29518\n",
            "**********************************************************************\n",
            "epoch: 2\t time: 1 m: 19 s \n",
            "train_loss: 1.25976\ttrain_acc1: 0.65990\n",
            "val_loss: 2.04787\tval_acc: 0.30720\n",
            "attack_acc: 0.42440\n",
            "**********************************************************************\n",
            "epoch: 3\t time: 1 m: 19 s \n",
            "train_loss: 1.03561\ttrain_acc1: 0.75192\n",
            "val_loss: 2.23783\tval_acc: 0.30730\n",
            "attack_acc: 0.50414\n",
            "**********************************************************************\n",
            "epoch: 4\t time: 1 m: 19 s \n",
            "train_loss: 0.89313\ttrain_acc1: 0.80444\n",
            "val_loss: 2.06376\tval_acc: 0.36290\n",
            "attack_acc: 0.55914\n",
            "**********************************************************************\n",
            "epoch: 5\t time: 1 m: 19 s \n",
            "train_loss: 0.78984\ttrain_acc1: 0.83888\n",
            "val_loss: 1.98624\tval_acc: 0.39460\n",
            "attack_acc: 0.59800\n",
            "**********************************************************************\n",
            "epoch: 6\t time: 1 m: 20 s \n",
            "train_loss: 0.71494\ttrain_acc1: 0.85932\n",
            "val_loss: 2.30089\tval_acc: 0.36400\n",
            "attack_acc: 0.63410\n",
            "**********************************************************************\n",
            "epoch: 7\t time: 1 m: 20 s \n",
            "train_loss: 0.64398\ttrain_acc1: 0.87914\n",
            "val_loss: 1.65302\tval_acc: 0.46970\n",
            "attack_acc: 0.66410\n",
            "**********************************************************************\n",
            "epoch: 8\t time: 1 m: 19 s \n",
            "train_loss: 0.57757\ttrain_acc1: 0.90058\n",
            "val_loss: 1.84604\tval_acc: 0.42760\n",
            "attack_acc: 0.69340\n",
            "**********************************************************************\n",
            "epoch: 9\t time: 1 m: 19 s \n",
            "train_loss: 0.52875\ttrain_acc1: 0.91248\n",
            "val_loss: 1.96210\tval_acc: 0.40520\n",
            "attack_acc: 0.71576\n",
            "**********************************************************************\n",
            "epoch: 10\t time: 1 m: 19 s \n",
            "train_loss: 0.47469\ttrain_acc1: 0.92688\n",
            "val_loss: 1.99927\tval_acc: 0.40360\n",
            "attack_acc: 0.74066\n",
            "**********************************************************************\n",
            "epoch: 11\t time: 1 m: 19 s \n",
            "train_loss: 0.43452\ttrain_acc1: 0.93554\n",
            "val_loss: 1.65546\tval_acc: 0.46010\n",
            "attack_acc: 0.76022\n",
            "**********************************************************************\n",
            "epoch: 12\t time: 1 m: 19 s \n",
            "train_loss: 0.39034\ttrain_acc1: 0.94544\n",
            "val_loss: 1.86200\tval_acc: 0.43990\n",
            "attack_acc: 0.78020\n",
            "**********************************************************************\n",
            "epoch: 13\t time: 1 m: 19 s \n",
            "train_loss: 0.35622\ttrain_acc1: 0.95482\n",
            "val_loss: 2.38393\tval_acc: 0.37470\n",
            "attack_acc: 0.79468\n",
            "**********************************************************************\n",
            "epoch: 14\t time: 1 m: 19 s \n",
            "train_loss: 0.31715\ttrain_acc1: 0.96152\n",
            "val_loss: 2.40852\tval_acc: 0.39050\n",
            "attack_acc: 0.81450\n",
            "**********************************************************************\n",
            "epoch: 15\t time: 1 m: 20 s \n",
            "train_loss: 0.29558\ttrain_acc1: 0.96458\n",
            "val_loss: 1.95982\tval_acc: 0.44030\n",
            "attack_acc: 0.82710\n",
            "**********************************************************************\n",
            "epoch: 16\t time: 1 m: 19 s \n",
            "train_loss: 0.27303\ttrain_acc1: 0.97078\n",
            "val_loss: 2.46501\tval_acc: 0.40600\n",
            "attack_acc: 0.83896\n",
            "**********************************************************************\n",
            "epoch: 17\t time: 1 m: 19 s \n",
            "train_loss: 0.24992\ttrain_acc1: 0.97606\n",
            "val_loss: 1.90431\tval_acc: 0.46280\n",
            "attack_acc: 0.85118\n",
            "**********************************************************************\n",
            "epoch: 18\t time: 1 m: 19 s \n",
            "train_loss: 0.22894\ttrain_acc1: 0.97870\n",
            "val_loss: 2.31374\tval_acc: 0.41450\n",
            "attack_acc: 0.86170\n",
            "**********************************************************************\n",
            "epoch: 19\t time: 1 m: 19 s \n",
            "train_loss: 0.21281\ttrain_acc1: 0.98106\n",
            "val_loss: 2.27967\tval_acc: 0.40710\n",
            "attack_acc: 0.87072\n",
            "**********************************************************************\n",
            "epoch: 20\t time: 1 m: 19 s \n",
            "train_loss: 0.18913\ttrain_acc1: 0.98564\n",
            "val_loss: 2.51766\tval_acc: 0.42800\n",
            "attack_acc: 0.88364\n",
            "**********************************************************************\n"
          ],
          "name": "stdout"
        }
      ]
    },
    {
      "cell_type": "code",
      "metadata": {
        "id": "MEcmbHnBRPTt",
        "outputId": "fc772bbe-13b7-4740-d359-49b62f60c8ec",
        "colab": {
          "base_uri": "https://localhost:8080/",
          "height": 297
        }
      },
      "source": [
        "train_loss_list\n",
        "train_acc1_list \n",
        "val_acc_list\n",
        "val_loss_list\n",
        "train_acc2_list\n",
        "import matplotlib.pyplot as plt\n",
        "plt.plot(range(20), train_loss_list)\n",
        "plt.plot(range(20), val_loss_list)\n",
        "plt.xlabel('epochs')\n",
        "plt.ylabel('loss')\n",
        "plt.legend(['train_loss', 'train attack loss'])"
      ],
      "execution_count": null,
      "outputs": [
        {
          "output_type": "execute_result",
          "data": {
            "text/plain": [
              "<matplotlib.legend.Legend at 0x7f242dcf5e48>"
            ]
          },
          "metadata": {
            "tags": []
          },
          "execution_count": 22
        },
        {
          "output_type": "display_data",
          "data": {
            "image/png": "[encoded data removed]",
            "text/plain": [
              "<Figure size 432x288 with 1 Axes>"
            ]
          },
          "metadata": {
            "tags": [],
            "needs_background": "light"
          }
        }
      ]
    },
    {
      "cell_type": "code",
      "metadata": {
        "id": "JKRWpvsfR44d",
        "outputId": "37d0284f-eafa-4769-d5cd-16291810e678",
        "colab": {
          "base_uri": "https://localhost:8080/",
          "height": 297
        }
      },
      "source": [
        "plt.plot(range(20), train_acc1_list)\n",
        "plt.plot(range(20), train_acc2_list)\n",
        "plt.plot(range(20), val_acc_list)\n",
        "plt.xlabel('epochs')\n",
        "plt.ylabel('accuracy')\n",
        "plt.legend(['train accuracy', 'train attack accuracy', 'attack accuracy'])"
      ],
      "execution_count": null,
      "outputs": [
        {
          "output_type": "execute_result",
          "data": {
            "text/plain": [
              "<matplotlib.legend.Legend at 0x7f243a55ff98>"
            ]
          },
          "metadata": {
            "tags": []
          },
          "execution_count": 19
        },
        {
          "output_type": "display_data",
          "data": {
            "image/png": "[encoded data removed]",
            "text/plain": [
              "<Figure size 432x288 with 1 Axes>"
            ]
          },
          "metadata": {
            "tags": [],
            "needs_background": "light"
          }
        }
      ]
    },
    {
      "cell_type": "code",
      "metadata": {
        "id": "2ltKGbaPjzU3",
        "outputId": "17972348-5e12-4d99-aeaa-fc4f2e87ddd8",
        "colab": {
          "base_uri": "https://localhost:8080/",
          "height": 85
        }
      },
      "source": [
        "accuracies = []\n",
        "examples = []\n",
        "epsilons = [.0005, .005, .05, .10]\n",
        "table = []\n",
        "# Run test for each epsilon\n",
        "for eps in epsilons:\n",
        "    acc, ex, pred = test(model, device, test_loader, eps)\n",
        "    accuracies.append(acc)\n",
        "    examples.append(ex)\n",
        "    table.append(pred)"
      ],
      "execution_count": null,
      "outputs": [
        {
          "output_type": "stream",
          "text": [
            "Epsilon: 0.0005\tTest Accuracy = 6301 / 10000 = 0.6301\n",
            "Epsilon: 0.005\tTest Accuracy = 5388 / 10000 = 0.5388\n",
            "Epsilon: 0.05\tTest Accuracy = 2828 / 10000 = 0.2828\n",
            "Epsilon: 0.1\tTest Accuracy = 2294 / 10000 = 0.2294\n"
          ],
          "name": "stdout"
        }
      ]
    },
    {
      "cell_type": "code",
      "metadata": {
        "id": "QQWYNoFMYcLz"
      },
      "source": [
        "r1=[]\n",
        "r2=[]\n",
        "r3=[]\n",
        "r4=[]\n",
        "for i in table[0]:\n",
        "  for j in i:\n",
        "    r1.append(j)\n",
        "\n",
        "for i in table[1]:\n",
        "  for j in i:\n",
        "    r2.append(j)\n",
        "\n",
        "for i in table[2]:\n",
        "  for j in i:\n",
        "    r3.append(j)\n",
        "\n",
        "for i in table[3]:\n",
        "  for j in i:\n",
        "    r4.append(j)"
      ],
      "execution_count": null,
      "outputs": []
    },
    {
      "cell_type": "code",
      "metadata": {
        "id": "oV-dE-pjbtn4",
        "outputId": "6ed4f365-c186-4896-998b-ad407df03d78",
        "colab": {
          "base_uri": "https://localhost:8080/",
          "height": 34
        }
      },
      "source": [
        "r1 = np.array(r1)\n",
        "r2 = np.array(r2)\n",
        "r3 = np.array(r3)\n",
        "np.sum(r1==r2), np.sum(r1==r3),np.sum(r1==r4),np.sum(r2==r3), np.sum(r2==r4), np.sum(r3==r4),"
      ],
      "execution_count": null,
      "outputs": [
        {
          "output_type": "execute_result",
          "data": {
            "text/plain": [
              "(7539, 5433, 3278, 6926, 3754, 4847)"
            ]
          },
          "metadata": {
            "tags": []
          },
          "execution_count": 16
        }
      ]
    },
    {
      "cell_type": "code",
      "metadata": {
        "id": "xy__txcLMWI3"
      },
      "source": [
        "!cp '/content/Model_9' '/content/drive/My Drive/Colab Notebooks/adversarial'"
      ],
      "execution_count": null,
      "outputs": []
    },
    {
      "cell_type": "code",
      "metadata": {
        "id": "BPiKKCaFCLNk",
        "outputId": "b1a434c7-7e58-4723-f22d-0c0e92a23874",
        "colab": {
          "base_uri": "https://localhost:8080/",
          "height": 70
        }
      },
      "source": [
        "import numpy as np\n",
        "a = [[1, 1, 0], [0, 1, 0], [0, 1, 1]]\n",
        "a = np.array(a)\n",
        "a"
      ],
      "execution_count": null,
      "outputs": [
        {
          "output_type": "execute_result",
          "data": {
            "text/plain": [
              "array([[1, 1, 0],\n",
              "       [0, 1, 0],\n",
              "       [0, 1, 1]])"
            ]
          },
          "metadata": {
            "tags": []
          },
          "execution_count": 33
        }
      ]
    },
    {
      "cell_type": "code",
      "metadata": {
        "id": "T-rWEQZbCeOk",
        "outputId": "e49829fe-4b50-4547-aaf5-c44fe542c8a0",
        "colab": {
          "base_uri": "https://localhost:8080/",
          "height": 35
        }
      },
      "source": [
        "b = np.zeros_like(a)\n",
        "def find(a, r, i, j):\n",
        "  if i<0 or i>a.shape[0]-1 or j<0 or j>a.shape[1]-1:\n",
        "    return\n",
        "  if r!=[] and  r[-1]==[a.shape[0]-1, a.shape[1]-1]:\n",
        "    return\n",
        "  if not a[i, j]: return\n",
        "  if a[i, j]:\n",
        "    r.append([i, j])\n",
        "  find(a, r, i+1, j)\n",
        "  find(a, r, i, j+1)\n",
        "  find(a, r, i-1, j)\n",
        "  find(a, r, i, j-1)\n",
        "b = []\n",
        "find(a, b, 0, 0)\n",
        "b"
      ],
      "execution_count": null,
      "outputs": [
        {
          "output_type": "execute_result",
          "data": {
            "text/plain": [
              "[[0, 0], [0, 1], [1, 1], [2, 1], [2, 2]]"
            ]
          },
          "metadata": {
            "tags": []
          },
          "execution_count": 34
        }
      ]
    },
    {
      "cell_type": "code",
      "metadata": {
        "id": "DvJzapstCr7s"
      },
      "source": [
        "!git config — global user.email \"21ssnxswz@gmail.com\"\n",
        "!git config — global user.name \"hiden\""
      ],
      "execution_count": null,
      "outputs": []
    }
  ]
}